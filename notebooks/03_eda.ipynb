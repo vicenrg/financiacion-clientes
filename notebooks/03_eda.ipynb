{
 "cells": [
  {
   "cell_type": "markdown",
   "id": "87b0fd5f",
   "metadata": {},
   "source": [
    "# 🛠️ EDA - ANÁLISIS EXPLORATORIO DE LOS DATOS"
   ]
  },
  {
   "cell_type": "markdown",
   "id": "188b7933",
   "metadata": {},
   "source": [
    "---\n",
    "## 📦 Importación de librerías\n",
    "---"
   ]
  }
 ],
 "metadata": {
  "language_info": {
   "name": "python"
  }
 },
 "nbformat": 4,
 "nbformat_minor": 5
}
