{
 "cells": [
  {
   "cell_type": "markdown",
   "id": "65a5f3aa",
   "metadata": {},
   "source": [
    "# 🛠️ EDA - ANÁLISIS EXPLORATORIO DE LOS DATOS"
   ]
  },
  {
   "cell_type": "markdown",
   "id": "e9d513da",
   "metadata": {},
   "source": [
    "---\n",
    "## 📦 Importación de librerías\n",
    "---"
   ]
  }
 ],
 "metadata": {
  "language_info": {
   "name": "python"
  }
 },
 "nbformat": 4,
 "nbformat_minor": 5
}
